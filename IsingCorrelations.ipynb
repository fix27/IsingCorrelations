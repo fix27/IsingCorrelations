{
  "nbformat": 4,
  "nbformat_minor": 0,
  "metadata": {
    "colab": {
      "name": "IsingCorrelations.ipynb",
      "provenance": []
    },
    "kernelspec": {
      "name": "python3",
      "display_name": "Python 3"
    }
  },
  "cells": [
    {
      "cell_type": "code",
      "metadata": {
        "id": "UF8cQLVHWL4V",
        "outputId": "e4f3ce32-6288-453b-ec7b-980f46e1fe78",
        "colab": {
          "base_uri": "https://localhost:8080/",
          "height": 1000
        }
      },
      "source": [
        "!git clone https://github.com/SemyonSinchenko/IsingCorrelations.git\n",
        "%cd IsingCorrelations\n",
        "!pip install mpi4py netket\n",
        "!python ./main.py --spins 3 --Hconst 3.1415 --Jconst 1 --Ham ising"
      ],
      "execution_count": 1,
      "outputs": [
        {
          "output_type": "stream",
          "text": [
            "Cloning into 'IsingCorrelations'...\n",
            "remote: Enumerating objects: 732, done.\u001b[K\n",
            "remote: Counting objects: 100% (732/732), done.\u001b[K\n",
            "remote: Compressing objects: 100% (665/665), done.\u001b[K\n",
            "remote: Total 732 (delta 125), reused 667 (delta 60), pack-reused 0\u001b[K\n",
            "Receiving objects: 100% (732/732), 17.39 MiB | 9.02 MiB/s, done.\n",
            "Resolving deltas: 100% (125/125), done.\n",
            "/content/IsingCorrelations\n",
            "Collecting mpi4py\n",
            "\u001b[?25l  Downloading https://files.pythonhosted.org/packages/ec/8f/bbd8de5ba566dd77e408d8136e2bab7fdf2b97ce06cab830ba8b50a2f588/mpi4py-3.0.3.tar.gz (1.4MB)\n",
            "\u001b[K     |████████████████████████████████| 1.4MB 2.8MB/s \n",
            "\u001b[?25hCollecting netket\n",
            "\u001b[?25l  Downloading https://files.pythonhosted.org/packages/45/a8/3b5dbeffa787442dee6f4026ff76ecb8aeb936b8725a94fef63eea2071d3/netket-2.1.1.tar.gz (197kB)\n",
            "\u001b[K     |████████████████████████████████| 204kB 18.1MB/s \n",
            "\u001b[?25hRequirement already satisfied: numpy>=1.16 in /usr/local/lib/python3.6/dist-packages (from netket) (1.18.5)\n",
            "Requirement already satisfied: cmake>=3.12 in /usr/local/lib/python3.6/dist-packages (from netket) (3.12.0)\n",
            "Requirement already satisfied: scipy>=1.2.1 in /usr/local/lib/python3.6/dist-packages (from netket) (1.4.1)\n",
            "Collecting tqdm>=4.42.1\n",
            "\u001b[?25l  Downloading https://files.pythonhosted.org/packages/93/3a/96b3dc293aa72443cf9627444c3c221a7ba34bb622e4d8bf1b5d4f2d9d08/tqdm-4.51.0-py2.py3-none-any.whl (70kB)\n",
            "\u001b[K     |████████████████████████████████| 71kB 7.0MB/s \n",
            "\u001b[?25hRequirement already satisfied: numba>=0.48.0 in /usr/local/lib/python3.6/dist-packages (from netket) (0.48.0)\n",
            "Requirement already satisfied: llvmlite<0.32.0,>=0.31.0dev0 in /usr/local/lib/python3.6/dist-packages (from numba>=0.48.0->netket) (0.31.0)\n",
            "Requirement already satisfied: setuptools in /usr/local/lib/python3.6/dist-packages (from numba>=0.48.0->netket) (50.3.0)\n",
            "Building wheels for collected packages: mpi4py, netket\n",
            "  Building wheel for mpi4py (setup.py) ... \u001b[?25l\u001b[?25hdone\n",
            "  Created wheel for mpi4py: filename=mpi4py-3.0.3-cp36-cp36m-linux_x86_64.whl size=2074489 sha256=22e2b76e0484452cd369da785a8a49d211dadc3ac24342bd534f4b3c5adeceb1\n",
            "  Stored in directory: /root/.cache/pip/wheels/18/e0/86/2b713dd512199096012ceca61429e12b960888de59818871d6\n",
            "  Building wheel for netket (setup.py) ... \u001b[?25l\u001b[?25hdone\n",
            "  Created wheel for netket: filename=netket-2.1.1-cp36-cp36m-linux_x86_64.whl size=1205682 sha256=544d84f31afde9dee26511d7d59b39bdf9d42178718289fd95af574fab2b089d\n",
            "  Stored in directory: /root/.cache/pip/wheels/d8/4a/31/b5fb6c96ec4f28f07fb48f3a1f01b991fffef216e2c68bf06d\n",
            "Successfully built mpi4py netket\n",
            "Installing collected packages: mpi4py, tqdm, netket\n",
            "  Found existing installation: tqdm 4.41.1\n",
            "    Uninstalling tqdm-4.41.1:\n",
            "      Successfully uninstalled tqdm-4.41.1\n",
            "Successfully installed mpi4py-3.0.3 netket-2.1.1 tqdm-4.51.0\n",
            "Graph one the 3 vertices.\n",
            "# RMSProp optimizer initialized with these parameters :\n",
            "# Learning Rate = 0.001\n",
            "# Beta = 0.9\n",
            "# Epscut = 1e-07\n",
            "RBM with 51 params.\n",
            "Vmc(step_count=0, n_samples=2000, n_discard=200)\n",
            "  Hamiltonian: <netket._C_netket.operator.GraphOperator object at 0x7fb13ca42768>\n",
            "  Machine: <netket._C_netket.machine.RbmSpin object at 0x7fb13ca42730>\n",
            "  Optimizer: <netket._C_netket.optimizer.RmsProp object at 0x7fb13ca427a0>\n",
            "  SR solver:     Stochastic reconfiguration method for holomorphic wavefunctions\n",
            "    Solver: LLT\n",
            "\n",
            "Report path: output_ising_spins_3_h_3.14E+00_j_1.00E+00\n",
            "0it [00:00, ?it/s]\tStep: 0\tEnergy: -9.4310\tVariance: 1.9360\n",
            "1it [00:00,  1.13it/s]\tStep: 250\tEnergy: -9.5838\tVariance: 0.0005\n",
            "2it [00:45, 14.05s/it]\tStep: 500\tEnergy: -9.5837\tVariance: 0.0007\n",
            "3it [01:30, 23.33s/it]\tStep: 750\tEnergy: -9.5835\tVariance: 0.0009\n",
            "4it [02:15, 29.77s/it]\tStep: 1000\tEnergy: -9.5825\tVariance: 0.0007\n",
            "5it [03:00, 34.27s/it]\tStep: 1250\tEnergy: -9.5834\tVariance: 0.0004\n",
            "6it [03:45, 37.43s/it]\tStep: 1500\tEnergy: -9.5837\tVariance: 0.0011\n",
            "7it [04:29, 39.63s/it]\tStep: 1750\tEnergy: -9.5840\tVariance: 0.0007\n",
            "8it [05:14, 41.17s/it]\tStep: 2000\tEnergy: -9.5835\tVariance: 0.0004\n",
            "9it [05:59, 42.25s/it]\tStep: 2250\tEnergy: -9.5836\tVariance: 0.0005\n",
            "10it [07:28, 44.86s/it]\n",
            "Done.\n",
            "[1c65b4f157b5:01128] *** Process received signal ***\n",
            "[1c65b4f157b5:01128] Signal: Segmentation fault (11)\n",
            "[1c65b4f157b5:01128] Signal code: Address not mapped (1)\n",
            "[1c65b4f157b5:01128] Failing at address: 0x7f3f518e320d\n",
            "[1c65b4f157b5:01128] [ 0] /lib/x86_64-linux-gnu/libpthread.so.0(+0x128a0)[0x7f3f54b988a0]\n",
            "[1c65b4f157b5:01128] [ 1] /lib/x86_64-linux-gnu/libc.so.6(getenv+0xa5)[0x7f3f547d7835]\n",
            "[1c65b4f157b5:01128] [ 2] /usr/lib/x86_64-linux-gnu/libtcmalloc.so.4(_ZN13TCMallocGuardD1Ev+0x34)[0x7f3f55042e44]\n",
            "[1c65b4f157b5:01128] [ 3] /lib/x86_64-linux-gnu/libc.so.6(__cxa_finalize+0xf5)[0x7f3f547d86c5]\n",
            "[1c65b4f157b5:01128] [ 4] /usr/lib/x86_64-linux-gnu/libtcmalloc.so.4(+0x13cb3)[0x7f3f55040cb3]\n",
            "[1c65b4f157b5:01128] *** End of error message ***\n"
          ],
          "name": "stdout"
        }
      ]
    }
  ]
}